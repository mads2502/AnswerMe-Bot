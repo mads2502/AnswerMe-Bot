{
 "cells": [
  {
   "cell_type": "code",
   "execution_count": 1,
   "metadata": {},
   "outputs": [
    {
     "name": "stdout",
     "output_type": "stream",
     "text": [
      "Requirement already satisfied: wolframalpha in c:\\users\\seysh\\anaconda3\\lib\\site-packages (4.1.1)\n",
      "Requirement already satisfied: more-itertools in c:\\users\\seysh\\anaconda3\\lib\\site-packages (from wolframalpha) (8.4.0)\n",
      "Requirement already satisfied: xmltodict in c:\\users\\seysh\\anaconda3\\lib\\site-packages (from wolframalpha) (0.12.0)\n",
      "Note: you may need to restart the kernel to use updated packages.\n"
     ]
    }
   ],
   "source": [
    "pip install wolframalpha\n"
   ]
  },
  {
   "cell_type": "code",
   "execution_count": 3,
   "metadata": {
    "scrolled": true
   },
   "outputs": [],
   "source": [
    "import wolframalpha as walpha\n",
    "\n"
   ]
  },
  {
   "cell_type": "code",
   "execution_count": 3,
   "metadata": {},
   "outputs": [
    {
     "name": "stdout",
     "output_type": "stream",
     "text": [
      "Requirement already satisfied: speechrecognition in c:\\users\\seysh\\anaconda3\\lib\\site-packages (3.8.1)\n",
      "Note: you may need to restart the kernel to use updated packages.\n"
     ]
    }
   ],
   "source": [
    "pip install speechrecognition"
   ]
  },
  {
   "cell_type": "code",
   "execution_count": 4,
   "metadata": {},
   "outputs": [
    {
     "name": "stdout",
     "output_type": "stream",
     "text": [
      "Processing c:\\users\\seysh\\downloads\\pyaudio-0.2.11-cp38-cp38-win_amd64.whl\n",
      "PyAudio is already installed with the same version as the provided wheel. Use --force-reinstall to force an installation of the wheel.\n",
      "Note: you may need to restart the kernel to use updated packages.\n"
     ]
    }
   ],
   "source": [
    "pip install C:\\Users\\seysh\\Downloads\\PyAudio-0.2.11-cp38-cp38-win_amd64.whl"
   ]
  },
  {
   "cell_type": "code",
   "execution_count": 4,
   "metadata": {},
   "outputs": [
    {
     "name": "stdout",
     "output_type": "stream",
     "text": [
      "Ask me anything....\n",
      "starting record 12:16:33\n",
      "The corresp text is  : who is the shortest woman in the world\n",
      "Done\n",
      "recorded time 12:16:35\n",
      "Gotcha yur reply :: Pauline Musters\n"
     ]
    }
   ],
   "source": [
    "import speech_recognition as SRG\n",
    "import time\n",
    "st=SRG.Recognizer()\n",
    "with SRG.Microphone() as s:\n",
    "    print(\"Ask me anything....\")\n",
    "    audio_ip=st.record(s,duration=15)\n",
    "    print(\"starting record\",time.strftime(\"%I:%M:%S\"))\n",
    "    try:\n",
    "        text_op=st.recognize_google(audio_ip)\n",
    "        print(\"The corresp text is  :\",text_op)\n",
    "        print(\"Done\")\n",
    "        print(\"recorded time\",time.strftime(\"%I:%M:%S\"))\n",
    "    except:\n",
    "        print(\"processing error!😑\")\n",
    "        \n",
    "    \n",
    "\n",
    "app_id='YLKPPX-86G6L6W9QP'\n",
    "client=walpha.Client(app_id)\n",
    "result=client.query(text_op)\n",
    "ans=next(result.results).text\n",
    "print(\"Gotcha yur reply ::\",ans)\n",
    "\n"
   ]
  },
  {
   "cell_type": "code",
   "execution_count": 14,
   "metadata": {},
   "outputs": [
    {
     "name": "stdout",
     "output_type": "stream",
     "text": [
      "Requirement already satisfied: gTTS in c:\\users\\seysh\\anaconda3\\lib\\site-packages (2.2.1)\n",
      "Requirement already satisfied: requests in c:\\users\\seysh\\anaconda3\\lib\\site-packages (from gTTS) (2.24.0)\n",
      "Requirement already satisfied: six in c:\\users\\seysh\\anaconda3\\lib\\site-packages (from gTTS) (1.15.0)\n",
      "Requirement already satisfied: click in c:\\users\\seysh\\anaconda3\\lib\\site-packages (from gTTS) (7.1.2)\n",
      "Requirement already satisfied: urllib3!=1.25.0,!=1.25.1,<1.26,>=1.21.1 in c:\\users\\seysh\\anaconda3\\lib\\site-packages (from requests->gTTS) (1.25.9)\n",
      "Requirement already satisfied: chardet<4,>=3.0.2 in c:\\users\\seysh\\anaconda3\\lib\\site-packages (from requests->gTTS) (3.0.4)\n",
      "Requirement already satisfied: idna<3,>=2.5 in c:\\users\\seysh\\anaconda3\\lib\\site-packages (from requests->gTTS) (2.10)\n",
      "Note: you may need to restart the kernel to use updated packages.\n",
      "Requirement already satisfied: certifi>=2017.4.17 in c:\\users\\seysh\\anaconda3\\lib\\site-packages (from requests->gTTS) (2020.6.20)\n"
     ]
    }
   ],
   "source": [
    "pip install gTTS\n"
   ]
  },
  {
   "cell_type": "code",
   "execution_count": 15,
   "metadata": {},
   "outputs": [
    {
     "name": "stdout",
     "output_type": "stream",
     "text": [
      "Requirement already satisfied: playsound in c:\\users\\seysh\\anaconda3\\lib\\site-packages (1.2.2)Note: you may need to restart the kernel to use updated packages.\n",
      "\n"
     ]
    }
   ],
   "source": [
    "pip install playsound"
   ]
  },
  {
   "cell_type": "code",
   "execution_count": 16,
   "metadata": {},
   "outputs": [
    {
     "name": "stdout",
     "output_type": "stream",
     "text": [
      "Requirement already satisfied: pyttsx3 in c:\\users\\seysh\\anaconda3\\lib\\site-packages (2.90)\n",
      "Requirement already satisfied: comtypes in c:\\users\\seysh\\anaconda3\\lib\\site-packages (from pyttsx3) (1.1.7)\n",
      "Requirement already satisfied: pywin32 in c:\\users\\seysh\\anaconda3\\lib\\site-packages (from pyttsx3) (227)\n",
      "Requirement already satisfied: pypiwin32 in c:\\users\\seysh\\anaconda3\\lib\\site-packages (from pyttsx3) (223)\n",
      "Note: you may need to restart the kernel to use updated packages.\n"
     ]
    }
   ],
   "source": [
    "pip install pyttsx3"
   ]
  },
  {
   "cell_type": "code",
   "execution_count": 6,
   "metadata": {},
   "outputs": [
    {
     "data": {
      "text/plain": [
       "0"
      ]
     },
     "execution_count": 6,
     "metadata": {},
     "output_type": "execute_result"
    }
   ],
   "source": [
    "import os\n",
    "from gtts import gTTS\n",
    "from playsound import playsound\n",
    "language='en'\n",
    "myobj=gTTS(text=ans,lang=language,slow=False)\n",
    "myobj.save(\"sample3.mp3\")\n",
    "os.system(\"sample3.mp3\")"
   ]
  },
  {
   "cell_type": "code",
   "execution_count": 5,
   "metadata": {},
   "outputs": [
    {
     "name": "stdout",
     "output_type": "stream",
     "text": [
      "Collecting setuptools\n",
      "  Downloading setuptools-51.1.0-py3-none-any.whl (2.0 MB)\n",
      "Collecting pip\n",
      "  Downloading pip-20.3.3-py2.py3-none-any.whl (1.5 MB)\n",
      "Installing collected packages: setuptools, pip\n",
      "  Attempting uninstall: setuptools\n",
      "    Found existing installation: setuptools 49.2.0.post20200714\n",
      "    Uninstalling setuptools-49.2.0.post20200714:\n",
      "      Successfully uninstalled setuptools-49.2.0.post20200714\n",
      "  Attempting uninstall: pip\n",
      "    Found existing installation: pip 20.1.1\n",
      "    Uninstalling pip-20.1.1:\n",
      "      Successfully uninstalled pip-20.1.1\n",
      "Successfully installed pip-20.3.3 setuptools-51.1.0\n",
      "Note: you may need to restart the kernel to use updated packages.\n"
     ]
    }
   ],
   "source": [
    "pip install --upgrade setuptools pip\n"
   ]
  },
  {
   "cell_type": "code",
   "execution_count": null,
   "metadata": {},
   "outputs": [],
   "source": []
  }
 ],
 "metadata": {
  "kernelspec": {
   "display_name": "Python 3",
   "language": "python",
   "name": "python3"
  },
  "language_info": {
   "codemirror_mode": {
    "name": "ipython",
    "version": 3
   },
   "file_extension": ".py",
   "mimetype": "text/x-python",
   "name": "python",
   "nbconvert_exporter": "python",
   "pygments_lexer": "ipython3",
   "version": "3.8.3"
  }
 },
 "nbformat": 4,
 "nbformat_minor": 4
}
